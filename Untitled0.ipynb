{
  "nbformat": 4,
  "nbformat_minor": 0,
  "metadata": {
    "colab": {
      "provenance": []
    },
    "kernelspec": {
      "name": "python3",
      "display_name": "Python 3"
    },
    "language_info": {
      "name": "python"
    }
  },
  "cells": [
    {
      "cell_type": "code",
      "execution_count": null,
      "metadata": {
        "id": "SpqTglfEa7PG"
      },
      "outputs": [],
      "source": []
    },
    {
      "cell_type": "markdown",
      "source": [
        "Python Basics Questions\n",
        "\n",
        "1)What is Python, and why is it popular ?\n",
        " -> Python is a high-level, general-purpose programming language known for its readability and ease of use. It is popular for its versatility, extensive libraries, and a large, supportive community, making it suitable for a wide range of applications.\n",
        "\n",
        "2)What is an interpreter in Python ?\n",
        " -> In Python, an interpreter is a program that reads and executes Python code line by line, by allowing us to see the results immediately.\n",
        "3)What are pre-defined keywords in Python ?\n",
        " ->In Python, pre-defined keywords (also called reserved words) are words that have special meaning and are part of the Python language syntax. These keywords are reserved and cannot be used as identifiers .\n",
        "4)Can keywords be used as variable names ?\n",
        " ->No, Keywords cannot be used as variable names.\n",
        "5)What is mutability in Python ?\n",
        " ->Mutability refers to whether an object’s state or content can be changed after it is created. Mutable objects can be modified, while immutable ones cannot.\n",
        "6)Why are lists mutable, but tuples are immutable ?\n",
        " ->Lists are designed to store dynamic data and support operations that modify the data. Tuples are meant for fixed data and offer safety by preventing modification, making them immutable.\n",
        "7)What is the difference between “==” and “is” operators in Python ?\n",
        " ->== compares the values of two objects, while is compares whether two objects point to the same memory location.\n",
        "8)What are logical operators in Python ?\n",
        " ->Logical operators include and, or, and not. They are used to combine or invert Boolean expressions.\n",
        "9)What is type casting in Python ?\n",
        " ->Type casting is converting a variable from one data type to another, such as from a string to an integer.\n",
        "10)What is the difference between implicit and explicit type casting ?\n",
        " ->implicit: Python automatically converts datatypes (e.g., int to float).\n",
        "   Explicit: Done manually using functions like int(), float(), str().\n",
        "11)What is the purpose of conditional statements in Python ?\n",
        " ->Conditional statements control the flow of execution depending on whether a condition is true or false.\n",
        "12)How does the elif statement work ?\n",
        " ->elif allows checking multiple expressions for True, running the first block that matches, similar to else if in other languages.\n",
        "13)What is the difference between for and while loops ?\n",
        " ->for is used for iterating over a sequence, whereas while loops continue until a condition becomes false.\n",
        "14)Describe a scenario where a while loop is more suitable than a for loop.\n",
        " ->When the number of iterations is not known beforehand, such as reading user input until a valid response is entered.\n",
        ""
      ],
      "metadata": {
        "id": "lsqamV3nC_ZY"
      }
    },
    {
      "cell_type": "code",
      "source": [
        "# 1)Write a Python program to print \"Hello, World!y\n",
        "print(\"Hello, World!\")\n"
      ],
      "metadata": {
        "colab": {
          "base_uri": "https://localhost:8080/"
        },
        "id": "_nA10SFjHNGD",
        "outputId": "5b4ce250-10e6-4f0b-b4a3-700a62024048"
      },
      "execution_count": 1,
      "outputs": [
        {
          "output_type": "stream",
          "name": "stdout",
          "text": [
            "Hello, World!\n"
          ]
        }
      ]
    },
    {
      "cell_type": "code",
      "source": [
        "# 2)Write a Python program that displays your name and age\n",
        "\n",
        "name = \"Naina\"\n",
        "age = 22\n",
        "print(\"Name:\", name)\n",
        "print(\"Age:\", age)\n"
      ],
      "metadata": {
        "colab": {
          "base_uri": "https://localhost:8080/"
        },
        "id": "GH5_ljqDIEHg",
        "outputId": "5054169e-f82a-4739-c24a-b40718382b7d"
      },
      "execution_count": 2,
      "outputs": [
        {
          "output_type": "stream",
          "name": "stdout",
          "text": [
            "Name: Naina\n",
            "Age: 22\n"
          ]
        }
      ]
    },
    {
      "cell_type": "code",
      "source": [
        "# 3)Write code to print all the pre-defined keywords in Python using the keyword library.\n",
        "\n",
        "import keyword\n",
        "print(keyword.kwlist)\n",
        "\n",
        "\n"
      ],
      "metadata": {
        "colab": {
          "base_uri": "https://localhost:8080/"
        },
        "id": "H-kX2PxfIUOp",
        "outputId": "d8eb32e2-9a3d-4347-e61d-0cdc5b47bd29"
      },
      "execution_count": 4,
      "outputs": [
        {
          "output_type": "stream",
          "name": "stdout",
          "text": [
            "['False', 'None', 'True', 'and', 'as', 'assert', 'async', 'await', 'break', 'class', 'continue', 'def', 'del', 'elif', 'else', 'except', 'finally', 'for', 'from', 'global', 'if', 'import', 'in', 'is', 'lambda', 'nonlocal', 'not', 'or', 'pass', 'raise', 'return', 'try', 'while', 'with', 'yield']\n"
          ]
        }
      ]
    },
    {
      "cell_type": "code",
      "source": [
        "# 4)Write a program that checks if a given word is a Python keyword.\n",
        "import keyword\n",
        "\n",
        "s = input(\"Enter a word: \")\n",
        "\n",
        "# Check if it's a Python keyword\n",
        "if keyword.iskeyword(s):\n",
        "    print(f\"'{s}' is a Python keyword.\")\n",
        "else:\n",
        "    print(f\"'{s}' is not a Python keyword.\")"
      ],
      "metadata": {
        "colab": {
          "base_uri": "https://localhost:8080/"
        },
        "id": "l6mWsQ6BIwEJ",
        "outputId": "ec871fbd-d2da-4ffb-8b53-b46b6c41cc39"
      },
      "execution_count": 7,
      "outputs": [
        {
          "output_type": "stream",
          "name": "stdout",
          "text": [
            "Enter a word: naina\n",
            "'naina' is not a Python keyword.\n"
          ]
        }
      ]
    },
    {
      "cell_type": "code",
      "source": [
        "# 5)Create a list and tuple in Python, and demonstrate how attempting to change an element works differently for each.\n",
        "\n",
        "# Creating a list\n",
        "my_list = [1, 2, 3]\n",
        "print(\"Original list:\", my_list)\n",
        "\n",
        "# Modifying the list\n",
        "my_list[0] = 10\n",
        "print(\"Modified list:\", my_list)\n",
        "\n",
        "# Creating a tuple\n",
        "my_tuple = (4, 5, 6)\n",
        "print(\"Original tuple:\", my_tuple)\n",
        "\n",
        "# Attempting to modify the tuple\n",
        "try:\n",
        "    my_tuple[0] = 40\n",
        "except TypeError as e:\n",
        "    print(\"Error:\", e)"
      ],
      "metadata": {
        "colab": {
          "base_uri": "https://localhost:8080/"
        },
        "id": "UKKjJJz0JmLf",
        "outputId": "42a5523d-1d4f-4a64-fe98-a5c6d0e76dd6"
      },
      "execution_count": 8,
      "outputs": [
        {
          "output_type": "stream",
          "name": "stdout",
          "text": [
            "Original list: [1, 2, 3]\n",
            "Modified list: [10, 2, 3]\n",
            "Original tuple: (4, 5, 6)\n",
            "Error: 'tuple' object does not support item assignment\n"
          ]
        }
      ]
    },
    {
      "cell_type": "code",
      "source": [
        "# 6)Write a function to demonstrate the behavior of mutable and immutable arguments\n",
        "def modify_args(immutable, mutable):\n",
        "    immutable += 1\n",
        "    mutable.append(4)\n",
        "    print(\"Inside function:\")\n",
        "    print(\"Immutable:\", immutable)\n",
        "    print(\"Mutable:\", mutable)\n",
        "\n",
        "# Immutable argument (integer)\n",
        "num = 5\n",
        "# Mutable argument (list)\n",
        "my_list = [1, 2, 3]\n",
        "\n",
        "print(\"Before function call:\")\n",
        "print(\"Immutable:\", num)\n",
        "print(\"Mutable:\", my_list)\n",
        "\n",
        "modify_args(num, my_list)\n",
        "\n",
        "print(\"After function call:\")\n",
        "print(\"Immutable:\", num)\n",
        "print(\"Mutable:\", my_list)"
      ],
      "metadata": {
        "colab": {
          "base_uri": "https://localhost:8080/"
        },
        "id": "DiCP9_9PJ67F",
        "outputId": "30ca8b77-8c5a-4063-9f6e-5d8247edd186"
      },
      "execution_count": 9,
      "outputs": [
        {
          "output_type": "stream",
          "name": "stdout",
          "text": [
            "Before function call:\n",
            "Immutable: 5\n",
            "Mutable: [1, 2, 3]\n",
            "Inside function:\n",
            "Immutable: 6\n",
            "Mutable: [1, 2, 3, 4]\n",
            "After function call:\n",
            "Immutable: 5\n",
            "Mutable: [1, 2, 3, 4]\n"
          ]
        }
      ]
    },
    {
      "cell_type": "code",
      "source": [
        "# 7) Write a program that performs basic arithmetic operations on two user-input numbers.\n",
        "a = float(input(\"Enter first number: \"))\n",
        "b = float(input(\"Enter second number: \"))\n",
        "\n",
        "print(\"Addition:\", a + b)\n",
        "print(\"Subtraction:\", a - b)\n",
        "print(\"Multiplication:\", a * b)\n",
        "print(\"Division:\", a / b)\n"
      ],
      "metadata": {
        "colab": {
          "base_uri": "https://localhost:8080/"
        },
        "id": "cu7C1NLkKJWz",
        "outputId": "7209414a-6b18-4bd6-b0a3-18a156d669b7"
      },
      "execution_count": 10,
      "outputs": [
        {
          "output_type": "stream",
          "name": "stdout",
          "text": [
            "Enter first number: 5.4\n",
            "Enter second number: 2.2\n",
            "Addition: 7.6000000000000005\n",
            "Subtraction: 3.2\n",
            "Multiplication: 11.880000000000003\n",
            "Division: 2.4545454545454546\n"
          ]
        }
      ]
    },
    {
      "cell_type": "code",
      "source": [
        "# 8) Write a program to demonstrate the use of logical operators.\n",
        "x = 10\n",
        "y = 5\n",
        "print(x > 5 and y < 10)\n",
        "print(x < 5 or y < 10)\n",
        "print(not(x < 5))\n"
      ],
      "metadata": {
        "colab": {
          "base_uri": "https://localhost:8080/"
        },
        "id": "yz8f_A5uKXfR",
        "outputId": "ca385b2b-217f-41ae-a136-63a4c9b261d7"
      },
      "execution_count": 11,
      "outputs": [
        {
          "output_type": "stream",
          "name": "stdout",
          "text": [
            "True\n",
            "True\n",
            "True\n"
          ]
        }
      ]
    },
    {
      "cell_type": "code",
      "source": [
        "# 9) Write a Python program to convert user input from string to integer, float, and boolean types\n",
        "s = input(\"Enter a value: \")\n",
        "print(\"As integer:\", int(s))\n",
        "print(\"As float:\", float(s))\n",
        "print(\"As boolean:\", bool(s))\n"
      ],
      "metadata": {
        "colab": {
          "base_uri": "https://localhost:8080/"
        },
        "id": "Jp0V3L9SKiG1",
        "outputId": "c39a29ab-7a5b-40f3-ade2-7f3ff16c64ae"
      },
      "execution_count": 12,
      "outputs": [
        {
          "output_type": "stream",
          "name": "stdout",
          "text": [
            "Enter a value: 6\n",
            "As integer: 6\n",
            "As float: 6.0\n",
            "As boolean: True\n"
          ]
        }
      ]
    },
    {
      "cell_type": "code",
      "source": [
        "# 10)Write code to demonstrate type casting with list elements.\n",
        "str_list = [\"1\", \"2\", \"3\"]\n",
        "int_list = [int(i) for i in str_list]\n",
        "print(int_list)\n"
      ],
      "metadata": {
        "colab": {
          "base_uri": "https://localhost:8080/"
        },
        "id": "DwybdN8TLCXg",
        "outputId": "034cdb27-ca50-49c3-ab29-d409876126b5"
      },
      "execution_count": 13,
      "outputs": [
        {
          "output_type": "stream",
          "name": "stdout",
          "text": [
            "[1, 2, 3]\n"
          ]
        }
      ]
    },
    {
      "cell_type": "code",
      "source": [
        "# 11)Write a program that checks if a number is positive, negative, or zero.\n",
        "n = float(input(\"Enter a number: \"))\n",
        "if n > 0:\n",
        "    print(\"Positive\")\n",
        "elif n < 0:\n",
        "    print(\"Negative\")\n",
        "else:\n",
        "    print(\"Zero\")\n"
      ],
      "metadata": {
        "colab": {
          "base_uri": "https://localhost:8080/"
        },
        "id": "DYLZigw3LK_Y",
        "outputId": "2943bd28-ad35-4d78-e0c2-98f55a3e0885"
      },
      "execution_count": 14,
      "outputs": [
        {
          "output_type": "stream",
          "name": "stdout",
          "text": [
            "Enter a number: 5\n",
            "Positive\n"
          ]
        }
      ]
    },
    {
      "cell_type": "code",
      "source": [
        "# 12) Write a for loop to print numbers from 1 to 10.\n",
        "for i in range(1, 11):\n",
        "    print(i)\n"
      ],
      "metadata": {
        "colab": {
          "base_uri": "https://localhost:8080/"
        },
        "id": "eoPEhWEvLXRj",
        "outputId": "c4c5883d-ad7f-4186-8640-f4db4327225b"
      },
      "execution_count": 15,
      "outputs": [
        {
          "output_type": "stream",
          "name": "stdout",
          "text": [
            "1\n",
            "2\n",
            "3\n",
            "4\n",
            "5\n",
            "6\n",
            "7\n",
            "8\n",
            "9\n",
            "10\n"
          ]
        }
      ]
    },
    {
      "cell_type": "code",
      "source": [
        "# 13)Write a Python program to find the sum of all even numbers between 1 and 50\n",
        "total = 0\n",
        "for i in range(2, 51, 2):\n",
        "    total += i\n",
        "print(\"Sum of even numbers:\", total)\n"
      ],
      "metadata": {
        "colab": {
          "base_uri": "https://localhost:8080/"
        },
        "id": "BBDPsjxNLhKz",
        "outputId": "7431c445-a18c-4a35-9fd7-982c99e754e1"
      },
      "execution_count": 16,
      "outputs": [
        {
          "output_type": "stream",
          "name": "stdout",
          "text": [
            "Sum of even numbers: 650\n"
          ]
        }
      ]
    },
    {
      "cell_type": "code",
      "source": [
        "# 14)Write a program to reverse a string using a while loop.\n",
        "s = input(\"Enter a string: \")\n",
        "reversed_str = \"\"\n",
        "i = len(s) - 1\n",
        "while i >= 0:\n",
        "    reversed_str += s[i]\n",
        "    i -= 1\n",
        "print(\"Reversed string:\", reversed_str)\n"
      ],
      "metadata": {
        "colab": {
          "base_uri": "https://localhost:8080/"
        },
        "id": "lK9RjBZvLrKn",
        "outputId": "a52c24d7-17c6-4136-c898-114442524fbb"
      },
      "execution_count": 17,
      "outputs": [
        {
          "output_type": "stream",
          "name": "stdout",
          "text": [
            "Enter a string: naina\n",
            "Reversed string: anian\n"
          ]
        }
      ]
    },
    {
      "cell_type": "code",
      "source": [
        "# 15)Write a Python program to calculate the factorial of a number provided by the user using a while loop.\n",
        "n = int(input(\"Enter a number: \"))\n",
        "result = 1\n",
        "while n > 0:\n",
        "    result *= n\n",
        "    n -= 1\n",
        "print(\"Factorial:\", result)\n"
      ],
      "metadata": {
        "colab": {
          "base_uri": "https://localhost:8080/"
        },
        "id": "E1udQV4cL2PR",
        "outputId": "38815986-ce91-47f4-b670-086d03cf6619"
      },
      "execution_count": 18,
      "outputs": [
        {
          "output_type": "stream",
          "name": "stdout",
          "text": [
            "Enter a number: 5\n",
            "Factorial: 120\n"
          ]
        }
      ]
    }
  ]
}